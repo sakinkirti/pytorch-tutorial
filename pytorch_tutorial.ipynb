{
 "cells": [
  {
   "cell_type": "markdown",
   "metadata": {},
   "source": [
    "# Basics of Deep Learning using PyTorch\n",
    "PyTorch is a Python package that allows for ease of creating ML models. It has a host of functions that make creating forward prop and back prop easier"
   ]
  },
  {
   "cell_type": "code",
   "execution_count": 46,
   "metadata": {},
   "outputs": [],
   "source": [
    "# import the necessary packages\n",
    "import numpy as np\n",
    "import torch\n",
    "import matplotlib.pyplot as plt\n",
    "import random"
   ]
  },
  {
   "cell_type": "markdown",
   "metadata": {},
   "source": [
    "## Tensor Basics\n",
    "tensors are the basic units that you work with when creatin ML models. They are like numpy arrays and represent matrices, which allow you to perform calculations very quickly with matrix math compared to creating many for-loops to run through. This section has some basic things that you can do with pytorch tensors"
   ]
  },
  {
   "cell_type": "code",
   "execution_count": 3,
   "metadata": {},
   "outputs": [],
   "source": [
    "# creating some tensors for use in the following sections\n",
    "x = torch.rand(5,3)\n",
    "y = torch.rand(5,3)"
   ]
  },
  {
   "cell_type": "markdown",
   "metadata": {},
   "source": [
    "### Some element-wise operations"
   ]
  },
  {
   "cell_type": "code",
   "execution_count": 4,
   "metadata": {},
   "outputs": [
    {
     "name": "stdout",
     "output_type": "stream",
     "text": [
      "tensor([[2.5934, 0.9493, 1.1120],\n",
      "        [0.9743, 0.6347, 1.8129],\n",
      "        [1.3310, 1.9238, 1.6887],\n",
      "        [2.0307, 2.4931, 1.4076],\n",
      "        [0.7000, 2.0945, 0.4425]])\n",
      "tensor([[-0.6809, -0.4478, -0.2381],\n",
      "        [-0.3533, -0.5480, -0.3688],\n",
      "        [-0.6232, -0.5482, -0.3791],\n",
      "        [-0.7224, -0.6144, -0.1976],\n",
      "        [-0.5163, -0.6787, -0.3701]])\n",
      "tensor([[6.2260e-01, 2.8157e-02, 4.5461e-02],\n",
      "        [3.4062e-02, 1.0295e-03, 1.9226e-01],\n",
      "        [7.8057e-02, 2.5933e-01, 1.6254e-01],\n",
      "        [3.0911e-01, 5.4213e-01, 7.2321e-02],\n",
      "        [4.3589e-03, 3.4011e-01, 4.8568e-04]])\n",
      "tensor([[1.4685, 2.2331, 4.2003],\n",
      "        [2.8302, 1.8247, 2.7116],\n",
      "        [1.6047, 1.8242, 2.6377],\n",
      "        [1.3844, 1.6277, 5.0612],\n",
      "        [1.9370, 1.4735, 2.7021]])\n"
     ]
    }
   ],
   "source": [
    "# element-wise and in-place addition\n",
    "a = torch.add(x, y)\n",
    "a.add_(x)\n",
    "\n",
    "# element-wise and in-place subtraction\n",
    "b = torch.sub(x, y)\n",
    "b.sub_(x)\n",
    "\n",
    "# element-wise and in-place multiplication\n",
    "c = torch.mul(x, y)\n",
    "c.mul_(x)\n",
    "\n",
    "# element-wise and in-place division\n",
    "d = torch.div(x, y)\n",
    "d.div_(x)\n",
    "\n",
    "print(a)\n",
    "print(b)\n",
    "print(c)\n",
    "print(d)"
   ]
  },
  {
   "cell_type": "markdown",
   "metadata": {},
   "source": [
    "### Slice operations"
   ]
  },
  {
   "cell_type": "code",
   "execution_count": 6,
   "metadata": {},
   "outputs": [
    {
     "name": "stdout",
     "output_type": "stream",
     "text": [
      "tensor([[0.9562, 0.2508, 0.4370],\n",
      "        [0.3105, 0.0433, 0.7220],\n",
      "        [0.3539, 0.6878, 0.6548],\n",
      "        [0.6542, 0.9394, 0.6050],\n",
      "        [0.0919, 0.7079, 0.0362]])\n",
      "tensor([0.2508, 0.0433, 0.6878, 0.9394, 0.7079])\n",
      "tensor([0.3105, 0.0433, 0.7220])\n",
      "tensor(0.0433)\n"
     ]
    }
   ],
   "source": [
    "# using the same tensors created in the section before\n",
    "print(x)      # show the entire tensor\n",
    "print(x[:,1]) # gets the first column\n",
    "print(x[1,:]) # gets the first row\n",
    "print(x[1,1]) # gets the value at the (1,1) space"
   ]
  },
  {
   "cell_type": "markdown",
   "metadata": {},
   "source": [
    "### Resizing tensors"
   ]
  },
  {
   "cell_type": "code",
   "execution_count": 9,
   "metadata": {},
   "outputs": [
    {
     "name": "stdout",
     "output_type": "stream",
     "text": [
      "tensor([[0.9562],\n",
      "        [0.2508],\n",
      "        [0.4370],\n",
      "        [0.3105],\n",
      "        [0.0433],\n",
      "        [0.7220],\n",
      "        [0.3539],\n",
      "        [0.6878],\n",
      "        [0.6548],\n",
      "        [0.6542],\n",
      "        [0.9394],\n",
      "        [0.6050],\n",
      "        [0.0919],\n",
      "        [0.7079],\n",
      "        [0.0362]])\n",
      "tensor([[0.6809, 0.4478, 0.2381, 0.3533, 0.5480],\n",
      "        [0.3688, 0.6232, 0.5482, 0.3791, 0.7224],\n",
      "        [0.6144, 0.1976, 0.5163, 0.6787, 0.3701]])\n"
     ]
    }
   ],
   "source": [
    "# use the view function - the product of the dimensions must be the same\n",
    "z = x.view(15, 1)\n",
    "print(z)\n",
    "z = y.view(-1, 5) # the -1 means 'whatever is left' - it will auto size\n",
    "print(z)"
   ]
  },
  {
   "cell_type": "markdown",
   "metadata": {},
   "source": [
    "### Converting from numpy ndarrays to pytorch tensors and vice-versa"
   ]
  },
  {
   "cell_type": "code",
   "execution_count": 11,
   "metadata": {},
   "outputs": [
    {
     "name": "stdout",
     "output_type": "stream",
     "text": [
      "[[2.593351   0.9493178  1.1120331 ]\n",
      " [0.9743099  0.6347309  1.8128557 ]\n",
      " [1.3310056  1.9237852  1.6886619 ]\n",
      " [2.030662   2.4931161  1.4075922 ]\n",
      " [0.7000372  2.0945072  0.44253206]]\n",
      "tensor([[2.5934, 0.9493, 1.1120],\n",
      "        [0.9743, 0.6347, 1.8129],\n",
      "        [1.3310, 1.9238, 1.6887],\n",
      "        [2.0307, 2.4931, 1.4076],\n",
      "        [0.7000, 2.0945, 0.4425]])\n"
     ]
    }
   ],
   "source": [
    "# from tensor to ndarray\n",
    "e = a.numpy() # both e and a point to the same tensor - so changing one will change the other\n",
    "print(e)\n",
    "\n",
    "# from ndarray to tensor\n",
    "a = torch.from_numpy(e) # both e and a point to the same tensor - so changing one will change the other\n",
    "print(a)"
   ]
  },
  {
   "cell_type": "markdown",
   "metadata": {},
   "source": [
    "## Autograd\n",
    "autograd is a package in pytorch that allows for automatically creating gradient descent in pytorch tensors. <br>\n",
    "gradient descent and gradients are central to creating ML models because this is how you train a model. Therefore, this package is central to the pytorch <br>\n",
    "<br>\n",
    "When performing an operation on a tensor using autograd, pytorch creates a computation graph which automatically stores a function that is the gradient (slope) of the node. This is convenient for use during back propogation because the function is already stored rather than it needing to be calculated every time."
   ]
  },
  {
   "cell_type": "markdown",
   "metadata": {},
   "source": [
    "### Autograd features"
   ]
  },
  {
   "cell_type": "code",
   "execution_count": 18,
   "metadata": {},
   "outputs": [
    {
     "name": "stdout",
     "output_type": "stream",
     "text": [
      "tensor(18.7854, grad_fn=<MeanBackward0>)\n",
      "tensor([2.8655, 1.9139, 6.1823])\n"
     ]
    }
   ],
   "source": [
    "x = torch.randn(3, requires_grad=True) # let the tensor know whether it can use autograd\n",
    "\n",
    "y = x + 2        # creates a computation graph - has an attribute that is the derivative of tensor + 2\n",
    "z = y * y * 2\n",
    "z = z.mean()\n",
    "print(z)         # the 'grad_fn' attribute is the gradient function\n",
    "\n",
    "z.backward()     # backward propogation dcomp/dtensor - tensor has attribute that stores grad values\n",
    "print(x.grad)"
   ]
  },
  {
   "cell_type": "markdown",
   "metadata": {},
   "source": [
    "### Example of gradient calculation"
   ]
  },
  {
   "cell_type": "code",
   "execution_count": 21,
   "metadata": {},
   "outputs": [
    {
     "name": "stdout",
     "output_type": "stream",
     "text": [
      "tensor([3., 3., 3., 3.])\n",
      "tensor([3., 3., 3., 3.])\n",
      "tensor([3., 3., 3., 3.])\n"
     ]
    }
   ],
   "source": [
    "# with ML models, we need to calculate gradient descent - this is a simple example using a linear function\n",
    "weights = torch.ones(4, requires_grad=True)\n",
    "\n",
    "for epoch in range(3):\n",
    "    modelOutput = (weights * 3).sum()       # (weights * 3) is function, .sum() creates one attr so backwards() can be called\n",
    "    modelOutput.backward()\n",
    "    print(weights.grad)                     # if stop here, it will calculate the change from the starting position (ones)\n",
    "                                            # but, we want to calculate for each step, therefore, we reset the grads at each step\n",
    "    weights.grad.zero_()"
   ]
  },
  {
   "cell_type": "markdown",
   "metadata": {},
   "source": [
    "## Gradient Descent using Autograd\n",
    "gradient descent is the backbone of ML models - it makes the model more accurate - this is a quick intro on using gradient descent with pytorch autograd"
   ]
  },
  {
   "cell_type": "markdown",
   "metadata": {},
   "source": [
    "### Backpropogation\n",
    "backpropogation is an essential step in deep learning. Here, based on the accuracy of the forward propogation step, you calculate the gradient descent and which set of parameters to test next"
   ]
  },
  {
   "cell_type": "markdown",
   "metadata": {},
   "source": [
    "#### An example"
   ]
  },
  {
   "cell_type": "code",
   "execution_count": 23,
   "metadata": {},
   "outputs": [
    {
     "name": "stdout",
     "output_type": "stream",
     "text": [
      "tensor(1., grad_fn=<PowBackward0>)\n",
      "tensor(-2.)\n"
     ]
    }
   ],
   "source": [
    "# initialize the input and expected result\n",
    "x = torch.tensor(1.0)\n",
    "y = torch.tensor(2.0)\n",
    "\n",
    "# initialize the weights\n",
    "w = torch.tensor(1.0, requires_grad=True)\n",
    "\n",
    "# forward pass and compute loss\n",
    "yhat = w * x\n",
    "loss = (yhat - y)**2\n",
    "print(loss)\n",
    "\n",
    "# backward pass and compute grads - computed automatically because we specified require_grad\n",
    "loss.backward()\n",
    "print(w.grad)"
   ]
  },
  {
   "cell_type": "markdown",
   "metadata": {},
   "source": [
    "### Gradient Descent\n",
    "In a typical ML model, you would throw all of this in a for loop and do it multiple times to make the prediction more accurate. This next portion will show that"
   ]
  },
  {
   "cell_type": "markdown",
   "metadata": {},
   "source": [
    "#### Using only numpy\n",
    "First, to ensure understanding of how these models work, implement using only numpy"
   ]
  },
  {
   "cell_type": "code",
   "execution_count": 49,
   "metadata": {},
   "outputs": [
    {
     "name": "stdout",
     "output_type": "stream",
     "text": [
      "Prediction before training: x=5, y=4.260226058706072\n",
      "epoch: 1, w: 1.3204107207744176, loss: 33.60390090942383\n",
      "epoch: 2, w: 1.5976831206767614, loss: 11.776960372924805\n",
      "epoch: 3, w: 1.7618284148662147, loss: 4.127401828765869\n",
      "epoch: 4, w: 1.8590024108378944, loss: 1.4465053081512451\n",
      "epoch: 5, w: 1.9165294417827186, loss: 0.5069484710693359\n",
      "epoch: 6, w: 1.9505854491679724, loss: 0.17766721546649933\n",
      "epoch: 7, w: 1.970746562906986, loss: 0.062265701591968536\n",
      "epoch: 8, w: 1.982681985804325, loss: 0.021822046488523483\n",
      "epoch: 9, w: 1.9897477421252783, loss: 0.007647811435163021\n",
      "epoch: 10, w: 1.993930663058048, loss: 0.002680273959413171\n",
      "epoch: 11, w: 1.9964069473235662, loss: 0.0009393357904627919\n",
      "epoch: 12, w: 1.9978729242770725, loss: 0.00032921083038672805\n",
      "epoch: 13, w: 1.9987407638518864, loss: 0.00011537156387930736\n",
      "epoch: 14, w: 1.9992545232265049, loss: 4.043331500724889e-05\n",
      "epoch: 15, w: 1.9995586933581881, loss: 1.417271232639905e-05\n",
      "Prediction after training: x=5, y=9.997793466790942\n"
     ]
    },
    {
     "data": {
      "image/png": "[encoded data removed]",
      "text/plain": [
       "<Figure size 432x288 with 1 Axes>"
      ]
     },
     "metadata": {
      "needs_background": "light"
     },
     "output_type": "display_data"
    }
   ],
   "source": [
    "# linear regression so - function = weight * sample\n",
    "\n",
    "# initialize our training samples\n",
    "X = np.array([1,2,3,4,5,6,7,8], dtype=np.float32)\n",
    "Y = np.array([2,4,6,8,10,12,14,16], dtype=np.float32)\n",
    "\n",
    "# initialize our weight\n",
    "w = random.random()\n",
    "\n",
    "# calculate model prediction\n",
    "def forward(x):\n",
    "    return w * x\n",
    "\n",
    "# calculate loss - mean squared error\n",
    "def loss(y, y_pred):\n",
    "    return ((y_pred - y)**2).mean()\n",
    "\n",
    "# calculate gradient - the derivative of the loss with respect to the weights\n",
    "def gradient(x, y, y_pred):\n",
    "    return np.dot(2*x, y_pred-y).mean()\n",
    "\n",
    "# prediction before training\n",
    "print('Prediction before training: x=5, y=' + str(w*5))\n",
    "\n",
    "# training the model\n",
    "lr = 0.001\n",
    "n_iters = 15\n",
    "epochs = []\n",
    "losses = []\n",
    "weights = []\n",
    "for epoch in range(1, n_iters+1):\n",
    "    # forward pass\n",
    "    y_pred = forward(X)\n",
    "\n",
    "    # compute the loss\n",
    "    l = loss(Y, y_pred)\n",
    "    epochs.append(epoch)\n",
    "    losses.append(l)\n",
    "\n",
    "    # update the weights\n",
    "    dW = gradient(X, Y, y_pred)\n",
    "    w -= lr * dW\n",
    "    weights.append(w)\n",
    "    \n",
    "    # update the epochs\n",
    "    if epoch % 1 == 0:\n",
    "        print(f'epoch: {epoch}, w: {w}, loss: {l}')\n",
    "\n",
    "# print the loss\n",
    "plt.plot(epochs, losses)\n",
    "plt.plot(epochs, weights)\n",
    "\n",
    "# prediction after training\n",
    "print('Prediction after training: x=5, y=' + str(w*5))"
   ]
  },
  {
   "cell_type": "markdown",
   "metadata": {},
   "source": [
    "#### Backprop with PyTorch\n",
    "for the backward propogation"
   ]
  },
  {
   "cell_type": "code",
   "execution_count": 66,
   "metadata": {},
   "outputs": [
    {
     "name": "stdout",
     "output_type": "stream",
     "text": [
      "Prediction before training: x=5, y=0.0\n",
      "epoch: 2, w: 1.5197999477386475, loss: 24.49020004272461\n",
      "epoch: 4, w: 1.8847039937973022, loss: 1.4118115901947021\n",
      "epoch: 6, w: 1.9723174571990967, loss: 0.0813881903886795\n",
      "epoch: 8, w: 1.9933533668518066, loss: 0.004691871348768473\n",
      "epoch: 10, w: 1.9984041452407837, loss: 0.0002704716462176293\n",
      "epoch: 12, w: 1.9996168613433838, loss: 1.5594378055538982e-05\n",
      "epoch: 14, w: 1.9999079704284668, loss: 8.987138926386251e-07\n",
      "epoch: 16, w: 1.999977946281433, loss: 5.1823555224927986e-08\n",
      "epoch: 18, w: 1.9999946355819702, loss: 3.004425153108059e-09\n",
      "epoch: 20, w: 1.999998688697815, loss: 1.7278267705478356e-10\n",
      "Prediction after training: x=5, y=9.999993324279785\n"
     ]
    }
   ],
   "source": [
    "# linear regression so - function = weight * sample\n",
    "\n",
    "# initialize our training samples\n",
    "X = torch.tensor([1,2,3,4,5,6,7,8], dtype=torch.float32)\n",
    "Y = torch.tensor([2,4,6,8,10,12,14,16], dtype=torch.float32)\n",
    "\n",
    "# initialize our weight\n",
    "w = torch.tensor(0.0, dtype=torch.float32, requires_grad=True)\n",
    "\n",
    "# calculate model prediction\n",
    "def forward(x):\n",
    "    return w * x\n",
    "\n",
    "# calculate loss - mean squared error\n",
    "def loss(y, y_pred):\n",
    "    return ((y_pred - y)**2).mean()\n",
    "\n",
    "# prediction before training\n",
    "print(f'Prediction before training: x=5, y={forward(5).item()}')\n",
    "\n",
    "# training the model\n",
    "lr = 0.01\n",
    "n_iters = 20\n",
    "epochs = []\n",
    "losses = []\n",
    "weights = []\n",
    "for epoch in range(1, n_iters+1):\n",
    "    # forward pass\n",
    "    y_pred = forward(X)\n",
    "\n",
    "    # compute the loss\n",
    "    l = loss(Y, y_pred)\n",
    "    epochs.append(epoch)\n",
    "    losses.append(l.item)\n",
    "\n",
    "    # update the weights\n",
    "    l.backward()\n",
    "    with torch.no_grad():\n",
    "        w -= lr * w.grad\n",
    "\n",
    "    # set the gradients to 0 again\n",
    "    weights.append(w.item)\n",
    "    w.grad.zero_()\n",
    "    \n",
    "    # update the epochs\n",
    "    if epoch % 2 == 0:\n",
    "        print(f'epoch: {epoch}, w: {w}, loss: {l}')\n",
    "\n",
    "# prediction after training\n",
    "print(f'Prediction after training: x=5, y={forward(5).item()}')"
   ]
  },
  {
   "cell_type": "markdown",
   "metadata": {},
   "source": [
    "#### Training Pipeline with PyTorch\n",
    "Using more pytorch modules including the optimizer and loss calculation<br>\n",
    "In training a model with PyTorch, use the following steps: <br>\n",
    "1. design the model (input size, output size, forward pass)\n",
    "2. construct the loss and optimizer\n",
    "3. create the training loop \n",
    "    1. forward pass...compute the prediction\n",
    "    2. backward pass...gradients\n",
    "    3. update the weights...to increase accuracy"
   ]
  },
  {
   "cell_type": "code",
   "execution_count": 78,
   "metadata": {},
   "outputs": [
    {
     "name": "stdout",
     "output_type": "stream",
     "text": [
      "Prediction before training: x=5, y=0.001\n",
      "epoch: 10, w: 1.657, loss: 1.198\n",
      "epoch: 20, w: 1.908, loss: 0.034\n",
      "epoch: 30, w: 1.950, loss: 0.003\n",
      "epoch: 40, w: 1.958, loss: 0.002\n",
      "epoch: 50, w: 1.960, loss: 0.002\n",
      "epoch: 60, w: 1.961, loss: 0.002\n",
      "epoch: 70, w: 1.963, loss: 0.002\n",
      "epoch: 80, w: 1.964, loss: 0.002\n",
      "epoch: 90, w: 1.965, loss: 0.002\n",
      "epoch: 100, w: 1.966, loss: 0.002\n",
      "Prediction after training: x=5, y=9.829\n"
     ]
    }
   ],
   "source": [
    "# a new package\n",
    "import torch.nn as nn # a neural network module\n",
    "\n",
    "# linear regression so - function = weight * sample\n",
    "\n",
    "# initialize our training samples\n",
    "X = torch.tensor([[1],[2],[3],[4]], dtype=torch.float32)\n",
    "Y = torch.tensor([[2],[4],[6],[8]], dtype=torch.float32)\n",
    "XTest = torch.tensor([5], dtype=torch.float32)\n",
    "\n",
    "# get the size of input\n",
    "n_samples, n_features = X.size()\n",
    "\n",
    "inputSize = n_features\n",
    "outputsize = n_features\n",
    "\n",
    "# initialize the model\n",
    "model = nn.Linear(inputSize, outputsize)\n",
    "\n",
    "# prediction before training\n",
    "print(f'Prediction before training: x=5, y={model(XTest).item():.3f}')\n",
    "\n",
    "# training the model\n",
    "lr = 0.01\n",
    "n_iters = 100\n",
    "\n",
    "# define the loss and optimizer\n",
    "loss = nn.MSELoss()\n",
    "optimizer = torch.optim.SGD(model.parameters(), lr)\n",
    "\n",
    "for epoch in range(1, n_iters+1):\n",
    "    # forward pass\n",
    "    y_pred = model(X)\n",
    "\n",
    "    # compute the loss\n",
    "    l = loss(Y, y_pred)\n",
    "\n",
    "    # update the weights\n",
    "    l.backward()\n",
    "    optimizer.step()\n",
    "\n",
    "    # set the gradients to 0 again\n",
    "    optimizer.zero_grad()\n",
    "    \n",
    "    # update the epochs\n",
    "    if epoch % 10 == 0:\n",
    "        w, b = model.parameters()\n",
    "        print(f'epoch: {epoch}, w: {w[0][0]:.3f}, loss: {l:.3f}')\n",
    "\n",
    "# prediction after training\n",
    "print(f'Prediction after training: x=5, y={forward(5).item():.3f}')"
   ]
  },
  {
   "cell_type": "code",
   "execution_count": null,
   "metadata": {},
   "outputs": [],
   "source": []
  }
 ],
 "metadata": {
  "interpreter": {
   "hash": "018424330fd2776b878de25387691c469f53901b81fab446e5c14eecfc2492a5"
  },
  "kernelspec": {
   "display_name": "Python 3.8.8 ('base')",
   "language": "python",
   "name": "python3"
  },
  "language_info": {
   "codemirror_mode": {
    "name": "ipython",
    "version": 3
   },
   "file_extension": ".py",
   "mimetype": "text/x-python",
   "name": "python",
   "nbconvert_exporter": "python",
   "pygments_lexer": "ipython3",
   "version": "3.8.8"
  },
  "orig_nbformat": 4
 },
 "nbformat": 4,
 "nbformat_minor": 2
}
