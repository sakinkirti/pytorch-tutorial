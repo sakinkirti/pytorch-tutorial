{
 "cells": [
  {
   "cell_type": "markdown",
   "metadata": {},
   "source": [
    "# Basics of Deep Learning using PyTorch\n",
    "PyTorch is a Python package that allows for ease of creating ML models. It has a host of functions that make creating forward prop and back prop easier"
   ]
  },
  {
   "cell_type": "markdown",
   "metadata": {},
   "source": [
    "This material was taught by Python Engineer on Youtube through his free course here: https://www.youtube.com/watch?v=c36lUUr864M&t=11623s. All props to him as his course is amazing and very thorough."
   ]
  },
  {
   "cell_type": "code",
   "execution_count": 1,
   "metadata": {},
   "outputs": [],
   "source": [
    "# import the necessary packages\n",
    "import numpy as np\n",
    "import torch\n",
    "import matplotlib.pyplot as plt\n",
    "import random"
   ]
  },
  {
   "cell_type": "markdown",
   "metadata": {},
   "source": [
    "## Tensor Basics\n",
    "tensors are the basic units that you work with when creatin ML models. They are like numpy arrays and represent matrices, which allow you to perform calculations very quickly with matrix math compared to creating many for-loops to run through. This section has some basic things that you can do with pytorch tensors"
   ]
  },
  {
   "cell_type": "code",
   "execution_count": 2,
   "metadata": {},
   "outputs": [],
   "source": [
    "# creating some tensors for use in the following sections\n",
    "x = torch.rand(5,3)\n",
    "y = torch.rand(5,3)"
   ]
  },
  {
   "cell_type": "markdown",
   "metadata": {},
   "source": [
    "### Some element-wise operations"
   ]
  },
  {
   "cell_type": "code",
   "execution_count": 3,
   "metadata": {},
   "outputs": [
    {
     "name": "stdout",
     "output_type": "stream",
     "text": [
      "tensor([[1.2292, 1.6671, 2.0257],\n",
      "        [2.2280, 1.2170, 2.5544],\n",
      "        [1.9078, 1.8030, 2.2947],\n",
      "        [1.0955, 2.4344, 0.9027],\n",
      "        [0.9626, 0.9256, 2.3006]])\n",
      "tensor([[-0.0312, -0.6167, -0.6223],\n",
      "        [-0.7375, -0.4934, -0.9242],\n",
      "        [-0.4919, -0.3130, -0.8621],\n",
      "        [-0.6478, -0.6179, -0.3173],\n",
      "        [-0.6582, -0.4536, -0.3861]])\n",
      "tensor([[0.0112, 0.1701, 0.3064],\n",
      "        [0.4096, 0.0646, 0.6140],\n",
      "        [0.2465, 0.1737, 0.4423],\n",
      "        [0.0325, 0.5097, 0.0272],\n",
      "        [0.0152, 0.0253, 0.3538]])\n",
      "tensor([[32.0424,  1.6215,  1.6070],\n",
      "        [ 1.3559,  2.0268,  1.0821],\n",
      "        [ 2.0330,  3.1952,  1.1600],\n",
      "        [ 1.5438,  1.6183,  3.1511],\n",
      "        [ 1.5193,  2.2047,  2.5902]])\n"
     ]
    }
   ],
   "source": [
    "# element-wise and in-place addition\n",
    "a = torch.add(x, y)\n",
    "a.add_(x)\n",
    "\n",
    "# element-wise and in-place subtraction\n",
    "b = torch.sub(x, y)\n",
    "b.sub_(x)\n",
    "\n",
    "# element-wise and in-place multiplication\n",
    "c = torch.mul(x, y)\n",
    "c.mul_(x)\n",
    "\n",
    "# element-wise and in-place division\n",
    "d = torch.div(x, y)\n",
    "d.div_(x)\n",
    "\n",
    "print(a)\n",
    "print(b)\n",
    "print(c)\n",
    "print(d)"
   ]
  },
  {
   "cell_type": "markdown",
   "metadata": {},
   "source": [
    "### Slice operations"
   ]
  },
  {
   "cell_type": "code",
   "execution_count": 4,
   "metadata": {},
   "outputs": [
    {
     "name": "stdout",
     "output_type": "stream",
     "text": [
      "tensor([[0.5990, 0.5252, 0.7017],\n",
      "        [0.7453, 0.3618, 0.8151],\n",
      "        [0.7079, 0.7450, 0.7163],\n",
      "        [0.2239, 0.9082, 0.2927],\n",
      "        [0.1522, 0.2360, 0.9573]])\n",
      "tensor([0.5252, 0.3618, 0.7450, 0.9082, 0.2360])\n",
      "tensor([0.7453, 0.3618, 0.8151])\n",
      "tensor(0.3618)\n"
     ]
    }
   ],
   "source": [
    "# using the same tensors created in the section before\n",
    "print(x)      # show the entire tensor\n",
    "print(x[:,1]) # gets the first column\n",
    "print(x[1,:]) # gets the first row\n",
    "print(x[1,1]) # gets the value at the (1,1) space"
   ]
  },
  {
   "cell_type": "markdown",
   "metadata": {},
   "source": [
    "### Resizing tensors"
   ]
  },
  {
   "cell_type": "code",
   "execution_count": 5,
   "metadata": {},
   "outputs": [
    {
     "name": "stdout",
     "output_type": "stream",
     "text": [
      "tensor([[0.5990],\n",
      "        [0.5252],\n",
      "        [0.7017],\n",
      "        [0.7453],\n",
      "        [0.3618],\n",
      "        [0.8151],\n",
      "        [0.7079],\n",
      "        [0.7450],\n",
      "        [0.7163],\n",
      "        [0.2239],\n",
      "        [0.9082],\n",
      "        [0.2927],\n",
      "        [0.1522],\n",
      "        [0.2360],\n",
      "        [0.9573]])\n",
      "tensor([[0.0312, 0.6167, 0.6223, 0.7375, 0.4934],\n",
      "        [0.9242, 0.4919, 0.3130, 0.8621, 0.6478],\n",
      "        [0.6179, 0.3173, 0.6582, 0.4536, 0.3861]])\n"
     ]
    }
   ],
   "source": [
    "# use the view function - the product of the dimensions must be the same\n",
    "z = x.view(15, 1)\n",
    "print(z)\n",
    "z = y.view(-1, 5) # the -1 means 'whatever is left' - it will auto size\n",
    "print(z)"
   ]
  },
  {
   "cell_type": "markdown",
   "metadata": {},
   "source": [
    "### Converting from numpy ndarrays to pytorch tensors and vice-versa"
   ]
  },
  {
   "cell_type": "code",
   "execution_count": 6,
   "metadata": {},
   "outputs": [
    {
     "name": "stdout",
     "output_type": "stream",
     "text": [
      "[[1.2291832 1.6671228 2.0256515]\n",
      " [2.2280378 1.2170306 2.5543995]\n",
      " [1.907757  1.8030319 2.2947206]\n",
      " [1.0954642 2.434426  0.9026909]\n",
      " [0.9625508 0.9256248 2.3006268]]\n",
      "tensor([[1.2292, 1.6671, 2.0257],\n",
      "        [2.2280, 1.2170, 2.5544],\n",
      "        [1.9078, 1.8030, 2.2947],\n",
      "        [1.0955, 2.4344, 0.9027],\n",
      "        [0.9626, 0.9256, 2.3006]])\n"
     ]
    }
   ],
   "source": [
    "# from tensor to ndarray\n",
    "e = a.numpy() # both e and a point to the same tensor - so changing one will change the other\n",
    "print(e)\n",
    "\n",
    "# from ndarray to tensor\n",
    "a = torch.from_numpy(e) # both e and a point to the same tensor - so changing one will change the other\n",
    "print(a)"
   ]
  },
  {
   "cell_type": "markdown",
   "metadata": {},
   "source": [
    "## Autograd\n",
    "autograd is a package in pytorch that allows for automatically creating gradient descent in pytorch tensors. <br>\n",
    "gradient descent and gradients are central to creating ML models because this is how you train a model. Therefore, this package is central to the pytorch <br>\n",
    "<br>\n",
    "When performing an operation on a tensor using autograd, pytorch creates a computation graph which automatically stores a function that is the gradient (slope) of the node. This is convenient for use during back propogation because the function is already stored rather than it needing to be calculated every time."
   ]
  },
  {
   "cell_type": "markdown",
   "metadata": {},
   "source": [
    "### Autograd features"
   ]
  },
  {
   "cell_type": "code",
   "execution_count": 7,
   "metadata": {},
   "outputs": [
    {
     "name": "stdout",
     "output_type": "stream",
     "text": [
      "tensor(3.6709, grad_fn=<MeanBackward0>)\n",
      "tensor([2.5158, 1.2880, 1.3419])\n"
     ]
    }
   ],
   "source": [
    "x = torch.randn(3, requires_grad=True) # let the tensor know whether it can use autograd\n",
    "\n",
    "y = x + 2        # creates a computation graph - has an attribute that is the derivative of tensor + 2\n",
    "z = y * y * 2\n",
    "z = z.mean()\n",
    "print(z)         # the 'grad_fn' attribute is the gradient function\n",
    "\n",
    "z.backward()     # backward propogation dcomp/dtensor - tensor has attribute that stores grad values\n",
    "print(x.grad)"
   ]
  },
  {
   "cell_type": "markdown",
   "metadata": {},
   "source": [
    "### Example of gradient calculation"
   ]
  },
  {
   "cell_type": "code",
   "execution_count": 8,
   "metadata": {},
   "outputs": [
    {
     "name": "stdout",
     "output_type": "stream",
     "text": [
      "tensor([3., 3., 3., 3.])\n",
      "tensor([3., 3., 3., 3.])\n",
      "tensor([3., 3., 3., 3.])\n"
     ]
    }
   ],
   "source": [
    "# with ML models, we need to calculate gradient descent - this is a simple example using a linear function\n",
    "weights = torch.ones(4, requires_grad=True)\n",
    "\n",
    "for epoch in range(3):\n",
    "    modelOutput = (weights * 3).sum()       # (weights * 3) is function, .sum() creates one attr so backwards() can be called\n",
    "    modelOutput.backward()\n",
    "    print(weights.grad)                     # if stop here, it will calculate the change from the starting position (ones)\n",
    "                                            # but, we want to calculate for each step, therefore, we reset the grads at each step\n",
    "    weights.grad.zero_()"
   ]
  },
  {
   "cell_type": "markdown",
   "metadata": {},
   "source": [
    "## Gradient Descent using Autograd\n",
    "gradient descent is the backbone of ML models - it makes the model more accurate - this is a quick intro on using gradient descent with pytorch autograd"
   ]
  },
  {
   "cell_type": "markdown",
   "metadata": {},
   "source": [
    "### Backpropogation\n",
    "backpropogation is an essential step in deep learning. Here, based on the accuracy of the forward propogation step, you calculate the gradient descent and which set of parameters to test next"
   ]
  },
  {
   "cell_type": "markdown",
   "metadata": {},
   "source": [
    "#### An example"
   ]
  },
  {
   "cell_type": "code",
   "execution_count": 9,
   "metadata": {},
   "outputs": [
    {
     "name": "stdout",
     "output_type": "stream",
     "text": [
      "tensor(1., grad_fn=<PowBackward0>)\n",
      "tensor(-2.)\n"
     ]
    }
   ],
   "source": [
    "# initialize the input and expected result\n",
    "x = torch.tensor(1.0)\n",
    "y = torch.tensor(2.0)\n",
    "\n",
    "# initialize the weights\n",
    "w = torch.tensor(1.0, requires_grad=True)\n",
    "\n",
    "# forward pass and compute loss\n",
    "yhat = w * x\n",
    "loss = (yhat - y)**2\n",
    "print(loss)\n",
    "\n",
    "# backward pass and compute grads - computed automatically because we specified require_grad\n",
    "loss.backward()\n",
    "print(w.grad)"
   ]
  },
  {
   "cell_type": "markdown",
   "metadata": {},
   "source": [
    "### Gradient Descent\n",
    "In a typical ML model, you would throw all of this in a for loop and do it multiple times to make the prediction more accurate. This next portion will show that"
   ]
  },
  {
   "cell_type": "markdown",
   "metadata": {},
   "source": [
    "#### Using only numpy\n",
    "First, to ensure understanding of how these models work, implement using only numpy"
   ]
  },
  {
   "cell_type": "code",
   "execution_count": 10,
   "metadata": {},
   "outputs": [
    {
     "name": "stdout",
     "output_type": "stream",
     "text": [
      "Prediction before training: x=5, y=0.443697558796618\n",
      "epoch: 1, w: 0.8685338232827611, loss: 93.14936828613281\n",
      "epoch: 2, w: 1.330172006876511, loss: 32.64550018310547\n",
      "epoch: 3, w: 1.6034618017983862, loss: 11.441070556640625\n",
      "epoch: 4, w: 1.7652494147134252, loss: 4.00968599319458\n",
      "epoch: 5, w: 1.8610276663613745, loss: 1.405250072479248\n",
      "epoch: 6, w: 1.917728357584519, loss: 0.4924890398979187\n",
      "epoch: 7, w: 1.9512952177834937, loss: 0.17260020971298218\n",
      "epoch: 8, w: 1.9711667502236792, loss: 0.06048986315727234\n",
      "epoch: 9, w: 1.9829307158303686, loss: 0.021199584007263184\n",
      "epoch: 10, w: 1.9898950083566138, loss: 0.007429744116961956\n",
      "epoch: 11, w: 1.9940178454232642, loss: 0.0026038270443677902\n",
      "epoch: 12, w: 1.9964585588288732, loss: 0.0009125432115979493\n",
      "epoch: 13, w: 1.9979034765077062, loss: 0.00031982033397071064\n",
      "epoch: 14, w: 1.998758864910645, loss: 0.00011208475916646421\n",
      "epoch: 15, w: 1.9992652314019628, loss: 3.927803845726885e-05\n",
      "Prediction after training: x=5, y=9.996326157009815\n"
     ]
    },
    {
     "data": {
      "image/png": "[encoded data removed]",
      "text/plain": [
       "<Figure size 432x288 with 1 Axes>"
      ]
     },
     "metadata": {
      "needs_background": "light"
     },
     "output_type": "display_data"
    }
   ],
   "source": [
    "# linear regression so - function = weight * sample\n",
    "\n",
    "# initialize our training samples\n",
    "X = np.array([1,2,3,4,5,6,7,8], dtype=np.float32)\n",
    "Y = np.array([2,4,6,8,10,12,14,16], dtype=np.float32)\n",
    "\n",
    "# initialize our weight\n",
    "w = random.random()\n",
    "\n",
    "# calculate model prediction\n",
    "def forward(x):\n",
    "    return w * x\n",
    "\n",
    "# calculate loss - mean squared error\n",
    "def loss(y, y_pred):\n",
    "    return ((y_pred - y)**2).mean()\n",
    "\n",
    "# calculate gradient - the derivative of the loss with respect to the weights\n",
    "def gradient(x, y, y_pred):\n",
    "    return np.dot(2*x, y_pred-y).mean()\n",
    "\n",
    "# prediction before training\n",
    "print('Prediction before training: x=5, y=' + str(w*5))\n",
    "\n",
    "# training the model\n",
    "lr = 0.001\n",
    "n_iters = 15\n",
    "epochs = []\n",
    "losses = []\n",
    "weights = []\n",
    "for epoch in range(1, n_iters+1):\n",
    "    # forward pass\n",
    "    y_pred = forward(X)\n",
    "\n",
    "    # compute the loss\n",
    "    l = loss(Y, y_pred)\n",
    "    epochs.append(epoch)\n",
    "    losses.append(l)\n",
    "\n",
    "    # update the weights\n",
    "    dW = gradient(X, Y, y_pred)\n",
    "    w -= lr * dW\n",
    "    weights.append(w)\n",
    "    \n",
    "    # update the epochs\n",
    "    if epoch % 1 == 0:\n",
    "        print(f'epoch: {epoch}, w: {w}, loss: {l}')\n",
    "\n",
    "# print the loss\n",
    "plt.plot(epochs, losses)\n",
    "plt.plot(epochs, weights)\n",
    "\n",
    "# prediction after training\n",
    "print('Prediction after training: x=5, y=' + str(w*5))"
   ]
  },
  {
   "cell_type": "markdown",
   "metadata": {},
   "source": [
    "#### Backprop with PyTorch\n",
    "for the backward propogation"
   ]
  },
  {
   "cell_type": "code",
   "execution_count": 11,
   "metadata": {},
   "outputs": [
    {
     "name": "stdout",
     "output_type": "stream",
     "text": [
      "Prediction before training: x=5, y=0.0\n",
      "epoch: 2, w: 1.5197999477386475, loss: 24.49020004272461\n",
      "epoch: 4, w: 1.8847039937973022, loss: 1.4118115901947021\n",
      "epoch: 6, w: 1.9723174571990967, loss: 0.0813881903886795\n",
      "epoch: 8, w: 1.9933533668518066, loss: 0.004691871348768473\n",
      "epoch: 10, w: 1.9984041452407837, loss: 0.0002704716462176293\n",
      "epoch: 12, w: 1.9996168613433838, loss: 1.5594378055538982e-05\n",
      "epoch: 14, w: 1.9999079704284668, loss: 8.987138926386251e-07\n",
      "epoch: 16, w: 1.999977946281433, loss: 5.1823555224927986e-08\n",
      "epoch: 18, w: 1.9999946355819702, loss: 3.004425153108059e-09\n",
      "epoch: 20, w: 1.999998688697815, loss: 1.7278267705478356e-10\n",
      "Prediction after training: x=5, y=9.999993324279785\n"
     ]
    }
   ],
   "source": [
    "# linear regression so - function = weight * sample\n",
    "\n",
    "# initialize our training samples\n",
    "X = torch.tensor([1,2,3,4,5,6,7,8], dtype=torch.float32)\n",
    "Y = torch.tensor([2,4,6,8,10,12,14,16], dtype=torch.float32)\n",
    "\n",
    "# initialize our weight\n",
    "w = torch.tensor(0.0, dtype=torch.float32, requires_grad=True)\n",
    "\n",
    "# calculate model prediction\n",
    "def forward(x):\n",
    "    return w * x\n",
    "\n",
    "# calculate loss - mean squared error\n",
    "def loss(y, y_pred):\n",
    "    return ((y_pred - y)**2).mean()\n",
    "\n",
    "# prediction before training\n",
    "print(f'Prediction before training: x=5, y={forward(5).item()}')\n",
    "\n",
    "# training the model\n",
    "lr = 0.01\n",
    "n_iters = 20\n",
    "epochs = []\n",
    "losses = []\n",
    "weights = []\n",
    "for epoch in range(1, n_iters+1):\n",
    "    # forward pass\n",
    "    y_pred = forward(X)\n",
    "\n",
    "    # compute the loss\n",
    "    l = loss(Y, y_pred)\n",
    "    epochs.append(epoch)\n",
    "    losses.append(l.item)\n",
    "\n",
    "    # update the weights\n",
    "    l.backward()\n",
    "    with torch.no_grad():\n",
    "        w -= lr * w.grad\n",
    "\n",
    "    # set the gradients to 0 again\n",
    "    weights.append(w.item)\n",
    "    w.grad.zero_()\n",
    "    \n",
    "    # update the epochs\n",
    "    if epoch % 2 == 0:\n",
    "        print(f'epoch: {epoch}, w: {w}, loss: {l}')\n",
    "\n",
    "# prediction after training\n",
    "print(f'Prediction after training: x=5, y={forward(5).item()}')"
   ]
  },
  {
   "cell_type": "markdown",
   "metadata": {},
   "source": [
    "#### Training Pipeline with PyTorch\n",
    "Using more pytorch modules including the optimizer and loss calculation<br>\n",
    "In training a model with PyTorch, use the following steps: <br>\n",
    "1. design the model (input size, output size, forward pass)\n",
    "2. construct the loss and optimizer\n",
    "3. create the training loop \n",
    "    1. forward pass...compute the prediction\n",
    "    2. backward pass...gradients\n",
    "    3. update the weights...to increase accuracy"
   ]
  },
  {
   "cell_type": "code",
   "execution_count": 12,
   "metadata": {},
   "outputs": [
    {
     "name": "stdout",
     "output_type": "stream",
     "text": [
      "Prediction before training: x=5, y=2.543\n",
      "epoch: 10, w: 1.727, loss: 0.661\n",
      "epoch: 20, w: 1.914, loss: 0.021\n",
      "epoch: 30, w: 1.946, loss: 0.004\n",
      "epoch: 40, w: 1.952, loss: 0.003\n",
      "epoch: 50, w: 1.954, loss: 0.003\n",
      "epoch: 60, w: 1.956, loss: 0.003\n",
      "epoch: 70, w: 1.957, loss: 0.003\n",
      "epoch: 80, w: 1.958, loss: 0.003\n",
      "epoch: 90, w: 1.960, loss: 0.002\n",
      "epoch: 100, w: 1.961, loss: 0.002\n",
      "Prediction after training: x=5, y=9.804\n"
     ]
    }
   ],
   "source": [
    "# a new package\n",
    "import torch.nn as nn # a neural network module\n",
    "\n",
    "# linear regression so - function = weight * sample\n",
    "\n",
    "# initialize our training samples\n",
    "X = torch.tensor([[1],[2],[3],[4]], dtype=torch.float32)\n",
    "Y = torch.tensor([[2],[4],[6],[8]], dtype=torch.float32)\n",
    "XTest = torch.tensor([5], dtype=torch.float32)\n",
    "\n",
    "# get the size of input\n",
    "n_samples, n_features = X.size()\n",
    "\n",
    "inputSize = n_features\n",
    "outputsize = n_features\n",
    "\n",
    "# initialize the model\n",
    "model = nn.Linear(inputSize, outputsize)\n",
    "\n",
    "# prediction before training\n",
    "print(f'Prediction before training: x=5, y={model(XTest).item():.3f}')\n",
    "\n",
    "# training the model\n",
    "lr = 0.01\n",
    "n_iters = 100\n",
    "\n",
    "# define the loss and optimizer\n",
    "loss = nn.MSELoss()\n",
    "optimizer = torch.optim.SGD(model.parameters(), lr)\n",
    "\n",
    "for epoch in range(1, n_iters+1):\n",
    "    # forward pass\n",
    "    y_pred = model(X)\n",
    "\n",
    "    # compute the loss\n",
    "    l = loss(Y, y_pred)\n",
    "\n",
    "    # update the weights\n",
    "    l.backward()\n",
    "    optimizer.step()\n",
    "\n",
    "    # set the gradients to 0 again\n",
    "    optimizer.zero_grad()\n",
    "    \n",
    "    # update the epochs\n",
    "    if epoch % 10 == 0:\n",
    "        w, b = model.parameters()\n",
    "        print(f'epoch: {epoch}, w: {w[0][0]:.3f}, loss: {l:.3f}')\n",
    "\n",
    "# prediction after training\n",
    "print(f'Prediction after training: x=5, y={forward(5).item():.3f}')"
   ]
  },
  {
   "cell_type": "markdown",
   "metadata": {},
   "source": [
    "## Linear Regression\n",
    "This should be a review of using a very simple linear regression model"
   ]
  },
  {
   "cell_type": "markdown",
   "metadata": {},
   "source": [
    "#### Import the packages"
   ]
  },
  {
   "cell_type": "code",
   "execution_count": 13,
   "metadata": {},
   "outputs": [],
   "source": [
    "# import the pacakges\n",
    "import torch\n",
    "import torch.nn as nn\n",
    "import numpy as np\n",
    "import matplotlib.pyplot as plt\n",
    "from sklearn import datasets"
   ]
  },
  {
   "cell_type": "markdown",
   "metadata": {},
   "source": [
    "#### Prepare the dataset"
   ]
  },
  {
   "cell_type": "code",
   "execution_count": 15,
   "metadata": {},
   "outputs": [],
   "source": [
    "# generate a regression dataset\n",
    "x_numpy, y_numpy = datasets.make_regression(n_samples=100, n_features=1, noise=20, random_state=1)\n",
    "\n",
    "# convert to tensors\n",
    "X = torch.from_numpy(x_numpy.astype(np.float32))\n",
    "Y = torch.from_numpy(y_numpy.astype(np.float32))\n",
    "\n",
    "# reshape and get the input/output sizes\n",
    "Y = Y.view(Y.shape[0], 1)\n",
    "n_samples, n_features = X.shape"
   ]
  },
  {
   "cell_type": "markdown",
   "metadata": {},
   "source": [
    "#### Generate the model"
   ]
  },
  {
   "cell_type": "code",
   "execution_count": 16,
   "metadata": {},
   "outputs": [],
   "source": [
    "# get the parameters\n",
    "input_size = n_features\n",
    "output_size = 1\n",
    "\n",
    "# initialize the model\n",
    "model = nn.Linear(input_size, output_size)"
   ]
  },
  {
   "cell_type": "markdown",
   "metadata": {},
   "source": [
    "#### Loss and Optimizer"
   ]
  },
  {
   "cell_type": "code",
   "execution_count": 18,
   "metadata": {},
   "outputs": [],
   "source": [
    "# set the loss\n",
    "criterion = nn.MSELoss()\n",
    "\n",
    "# set the optimizer\n",
    "learning_rate = 0.01\n",
    "optimizer = torch.optim.SGD(model.parameters(), lr=learning_rate)"
   ]
  },
  {
   "cell_type": "markdown",
   "metadata": {},
   "source": [
    "#### Training loop"
   ]
  },
  {
   "cell_type": "code",
   "execution_count": 22,
   "metadata": {},
   "outputs": [
    {
     "name": "stdout",
     "output_type": "stream",
     "text": [
      "epoch: 100, loss: 332.5676, \n",
      "epoch: 200, loss: 332.5676, \n",
      "epoch: 300, loss: 332.5676, \n",
      "epoch: 400, loss: 332.5676, \n",
      "epoch: 500, loss: 332.5676, \n"
     ]
    },
    {
     "data": {
      "image/png": "[encoded data removed]",
      "text/plain": [
       "<Figure size 432x288 with 1 Axes>"
      ]
     },
     "metadata": {
      "needs_background": "light"
     },
     "output_type": "display_data"
    }
   ],
   "source": [
    "# set the loop\n",
    "num_epochs = 500\n",
    "for epoch in range(num_epochs):\n",
    "    \n",
    "    # forward pass and loss\n",
    "    y_pred = model(X)\n",
    "    loss = criterion(y_pred, Y)\n",
    "\n",
    "    # backward pass \n",
    "    loss.backward()\n",
    "\n",
    "    #update the weights\n",
    "    optimizer.step()\n",
    "    optimizer.zero_grad()\n",
    "\n",
    "    # print some info\n",
    "    if (epoch+1) % 100 == 0:\n",
    "        print(f'epoch: {epoch+1}, loss: {loss.item():.4f}, ')\n",
    "\n",
    "# plot the values\n",
    "predicted = model(X).detach().numpy()\n",
    "plt.plot(x_numpy, y_numpy, 'ro')\n",
    "plt.plot(x_numpy, predicted, 'bo')\n",
    "plt.show()"
   ]
  },
  {
   "cell_type": "markdown",
   "metadata": {},
   "source": [
    "## Logistic Regression\n",
    "Using a new model type - but this should still be review"
   ]
  },
  {
   "cell_type": "markdown",
   "metadata": {},
   "source": [
    "#### Import the packages"
   ]
  },
  {
   "cell_type": "code",
   "execution_count": 124,
   "metadata": {},
   "outputs": [],
   "source": [
    "import torch\n",
    "import torch.nn as nn\n",
    "import numpy as np\n",
    "from sklearn import datasets\n",
    "from sklearn.preprocessing import StandardScaler\n",
    "from sklearn.model_selection import train_test_split\n",
    "import matplotlib.pyplot as plt"
   ]
  },
  {
   "cell_type": "markdown",
   "metadata": {},
   "source": [
    "#### Prepare the dataset"
   ]
  },
  {
   "cell_type": "code",
   "execution_count": 134,
   "metadata": {},
   "outputs": [],
   "source": [
    "# load the breast cancer dataset from breast cancer dataset\n",
    "bc = datasets.load_breast_cancer()\n",
    "\n",
    "# load the input/output\n",
    "X, Y = bc.data, bc.target\n",
    "\n",
    "# get dataset size\n",
    "n_samples, n_features = X.shape\n",
    "\n",
    "# split the dataset\n",
    "Xtrain, Xtest, Ytrain, Ytest = train_test_split(X, Y, test_size=0.2)\n",
    "\n",
    "# scale the data from 0-1\n",
    "sc = StandardScaler()\n",
    "Xtrain = sc.fit_transform(Xtrain)\n",
    "XTest = sc.transform(Xtest)\n",
    "\n",
    "# create tensors from the ndarrays\n",
    "Xtrain = torch.from_numpy(Xtrain.astype(np.float32))\n",
    "Xtest = torch.from_numpy(Xtest.astype(np.float32))\n",
    "Ytrain = torch.from_numpy(Ytrain.astype(np.float32))\n",
    "Ytest = torch.from_numpy(Ytest.astype(np.float32))\n",
    "\n",
    "# reshape the Y to column vector\n",
    "Ytrain = Ytrain.view(Ytrain.shape[0], 1)\n",
    "Ytest = Ytest.view(Ytest.shape[0], 1)"
   ]
  },
  {
   "cell_type": "markdown",
   "metadata": {},
   "source": [
    "#### Set the model"
   ]
  },
  {
   "cell_type": "code",
   "execution_count": 135,
   "metadata": {},
   "outputs": [],
   "source": [
    "# there is not pre-defined class in PyTorch, so we'll need to create our own\n",
    "class LogisticRegression(nn.Module):\n",
    "    def __init__(self, n_input_features):\n",
    "        super(LogisticRegression, self).__init__()\n",
    "        self.linear = nn.Linear(n_input_features, 1)\n",
    "\n",
    "    def forward(self, x):\n",
    "        y_pred = torch.sigmoid(self.linear(x))\n",
    "        return y_pred\n",
    "\n",
    "# initialize the model\n",
    "logreg = LogisticRegression(n_features)"
   ]
  },
  {
   "cell_type": "markdown",
   "metadata": {},
   "source": [
    "#### Set the loss and optimizer"
   ]
  },
  {
   "cell_type": "code",
   "execution_count": 136,
   "metadata": {},
   "outputs": [],
   "source": [
    "# set the loss\n",
    "criterion = nn.BCELoss()\n",
    "\n",
    "# set the optimizer\n",
    "learning_rate = 0.01\n",
    "optimizer = torch.optim.SGD(logreg.parameters(), lr=learning_rate)"
   ]
  },
  {
   "cell_type": "markdown",
   "metadata": {},
   "source": [
    "#### Training loop"
   ]
  },
  {
   "cell_type": "code",
   "execution_count": 137,
   "metadata": {},
   "outputs": [
    {
     "name": "stdout",
     "output_type": "stream",
     "text": [
      "epoch: 100, loss: 0.246405\n",
      "epoch: 200, loss: 0.186896\n",
      "epoch: 300, loss: 0.161085\n",
      "epoch: 400, loss: 0.145664\n",
      "epoch: 500, loss: 0.135096\n",
      "epoch: 600, loss: 0.127279\n",
      "epoch: 700, loss: 0.121203\n",
      "epoch: 800, loss: 0.116313\n",
      "epoch: 900, loss: 0.112273\n",
      "epoch: 1000, loss: 0.108867\n"
     ]
    },
    {
     "data": {
      "image/png": "[encoded data removed]",
      "text/plain": [
       "<Figure size 432x288 with 1 Axes>"
      ]
     },
     "metadata": {
      "needs_background": "light"
     },
     "output_type": "display_data"
    }
   ],
   "source": [
    "num_epochs = 1000\n",
    "for epoch in range(num_epochs):\n",
    "    \n",
    "    # forward pass and loss calc\n",
    "    Ypred = logreg(Xtrain)\n",
    "    loss = criterion(Ypred, Ytrain)\n",
    "\n",
    "    # backward pass\n",
    "    loss.backward()\n",
    "\n",
    "    # update params\n",
    "    optimizer.step()\n",
    "    optimizer.zero_grad()\n",
    "\n",
    "    # gather some data\n",
    "    if (epoch+1) % 100 == 0:\n",
    "        print(f'epoch: {epoch+1}, loss: {loss.item():.6f}')\n",
    "\n",
    "    plt.plot(epoch,loss.item(), 'ro')\n",
    "plt.show()"
   ]
  },
  {
   "cell_type": "markdown",
   "metadata": {},
   "source": [
    "#### Model evaluation"
   ]
  },
  {
   "cell_type": "code",
   "execution_count": 138,
   "metadata": {},
   "outputs": [
    {
     "name": "stdout",
     "output_type": "stream",
     "text": [
      "accuracy: 0.4035\n"
     ]
    }
   ],
   "source": [
    "# this piece of code has something wrong with it, but I have no clue what it is\n",
    "# when using the model - it only predicts zeros\n",
    "# this is not how it should work, in fact in the cell above, it works fine when the model() function is used for forward prop\n",
    "Ytestpred = logreg(Xtest)\n",
    "with torch.no_grad():\n",
    "    #y_predicted = logreg(Xtest) # this is the line I am referring to - it just returns all 0's and does not make a prediction\n",
    "    y_predicted_cls = Ytestpred.round()\n",
    "    acc = y_predicted_cls.eq(Ytest).sum() / float(Ytest.shape[0])\n",
    "    print(f'accuracy: {acc.item():.4f}')"
   ]
  },
  {
   "cell_type": "markdown",
   "metadata": {},
   "source": [
    "## Dataset and Data Loader\n",
    "For samples that are really large, optimizing over the entire dataset is very timely and inefficient. Instead, we want to use the DataLoader class to create batches. Then, we perform iterations over the batches so that optimization is faster."
   ]
  },
  {
   "cell_type": "markdown",
   "metadata": {},
   "source": [
    "#### Import outstanding packages"
   ]
  },
  {
   "cell_type": "code",
   "execution_count": 77,
   "metadata": {},
   "outputs": [],
   "source": [
    "import torchvision\n",
    "from torch.utils.data import Dataset, DataLoader\n",
    "import math"
   ]
  },
  {
   "cell_type": "markdown",
   "metadata": {},
   "source": [
    "#### Implement our custom dataset"
   ]
  },
  {
   "cell_type": "code",
   "execution_count": 78,
   "metadata": {},
   "outputs": [],
   "source": [
    "class WineDataset(Dataset):\n",
    "    def __init__(self):\n",
    "        xy = np.loadtxt('/Users/sakinkirti/Programming/Python/pytorch-tutorial/wine.txt', delimiter=',', dtype=np.float32, skiprows=1)\n",
    "        self.x = torch.from_numpy(xy[:,1:])\n",
    "        self.y = torch.from_numpy(xy[:,[0]])\n",
    "        self.num_samples = xy.shape[0]\n",
    "\n",
    "    def __getitem__(self, index):\n",
    "        return self.x[index], self.y[index]\n",
    "\n",
    "    def __len__(self):\n",
    "        return self.num_samples"
   ]
  },
  {
   "cell_type": "markdown",
   "metadata": {},
   "source": [
    "#### How to use the Dataset class"
   ]
  },
  {
   "cell_type": "code",
   "execution_count": 79,
   "metadata": {},
   "outputs": [
    {
     "name": "stdout",
     "output_type": "stream",
     "text": [
      "tensor([1.4230e+01, 1.7100e+00, 2.4300e+00, 1.5600e+01, 1.2700e+02, 2.8000e+00,\n",
      "        3.0600e+00, 2.8000e-01, 2.2900e+00, 5.6400e+00, 1.0400e+00, 3.9200e+00,\n",
      "        1.0650e+03]) tensor([1.])\n"
     ]
    }
   ],
   "source": [
    "# using the Dataset\n",
    "dataset = WineDataset()\n",
    "firstData = dataset[0]\n",
    "features, labels = firstData\n",
    "print(features, labels)"
   ]
  },
  {
   "cell_type": "markdown",
   "metadata": {},
   "source": [
    "#### How to use the DataLoader class"
   ]
  },
  {
   "cell_type": "code",
   "execution_count": 80,
   "metadata": {},
   "outputs": [
    {
     "name": "stdout",
     "output_type": "stream",
     "text": [
      "tensor([[1.3050e+01, 3.8600e+00, 2.3200e+00, 2.2500e+01, 8.5000e+01, 1.6500e+00,\n",
      "         1.5900e+00, 6.1000e-01, 1.6200e+00, 4.8000e+00, 8.4000e-01, 2.0100e+00,\n",
      "         5.1500e+02],\n",
      "        [1.3050e+01, 1.6500e+00, 2.5500e+00, 1.8000e+01, 9.8000e+01, 2.4500e+00,\n",
      "         2.4300e+00, 2.9000e-01, 1.4400e+00, 4.2500e+00, 1.1200e+00, 2.5100e+00,\n",
      "         1.1050e+03],\n",
      "        [1.3290e+01, 1.9700e+00, 2.6800e+00, 1.6800e+01, 1.0200e+02, 3.0000e+00,\n",
      "         3.2300e+00, 3.1000e-01, 1.6600e+00, 6.0000e+00, 1.0700e+00, 2.8400e+00,\n",
      "         1.2700e+03],\n",
      "        [1.2450e+01, 3.0300e+00, 2.6400e+00, 2.7000e+01, 9.7000e+01, 1.9000e+00,\n",
      "         5.8000e-01, 6.3000e-01, 1.1400e+00, 7.5000e+00, 6.7000e-01, 1.7300e+00,\n",
      "         8.8000e+02]]) tensor([[2.],\n",
      "        [1.],\n",
      "        [1.],\n",
      "        [3.]])\n"
     ]
    }
   ],
   "source": [
    "# using the DataLoader\n",
    "dataloader = DataLoader(dataset=dataset, batch_size=4, shuffle=True)\n",
    "dataiter = iter(dataloader)\n",
    "data = dataiter.next()\n",
    "features, labels = data\n",
    "print(features, labels)"
   ]
  },
  {
   "cell_type": "markdown",
   "metadata": {},
   "source": [
    "#### A short example of how to use the classes"
   ]
  },
  {
   "cell_type": "code",
   "execution_count": 81,
   "metadata": {},
   "outputs": [
    {
     "name": "stdout",
     "output_type": "stream",
     "text": [
      "epoch: 1/2, step: 5/45, inputs: torch.Size([4, 13])\n",
      "epoch: 1/2, step: 10/45, inputs: torch.Size([4, 13])\n",
      "epoch: 1/2, step: 15/45, inputs: torch.Size([4, 13])\n",
      "epoch: 1/2, step: 20/45, inputs: torch.Size([4, 13])\n",
      "epoch: 1/2, step: 25/45, inputs: torch.Size([4, 13])\n",
      "epoch: 1/2, step: 30/45, inputs: torch.Size([4, 13])\n",
      "epoch: 1/2, step: 35/45, inputs: torch.Size([4, 13])\n",
      "epoch: 1/2, step: 40/45, inputs: torch.Size([4, 13])\n",
      "epoch: 1/2, step: 45/45, inputs: torch.Size([2, 13])\n",
      "epoch: 2/2, step: 5/45, inputs: torch.Size([4, 13])\n",
      "epoch: 2/2, step: 10/45, inputs: torch.Size([4, 13])\n",
      "epoch: 2/2, step: 15/45, inputs: torch.Size([4, 13])\n",
      "epoch: 2/2, step: 20/45, inputs: torch.Size([4, 13])\n",
      "epoch: 2/2, step: 25/45, inputs: torch.Size([4, 13])\n",
      "epoch: 2/2, step: 30/45, inputs: torch.Size([4, 13])\n",
      "epoch: 2/2, step: 35/45, inputs: torch.Size([4, 13])\n",
      "epoch: 2/2, step: 40/45, inputs: torch.Size([4, 13])\n",
      "epoch: 2/2, step: 45/45, inputs: torch.Size([2, 13])\n"
     ]
    }
   ],
   "source": [
    "# using the dataloader in practing\n",
    "num_epochs = 2\n",
    "total_samples = len(dataset)\n",
    "n_iters = math.ceil(total_samples / 4)\n",
    "\n",
    "for epoch in range(num_epochs):\n",
    "    for i, (inputs, labels) in enumerate(dataloader):\n",
    "        if (i+1) % 5 == 0:\n",
    "            print(f'epoch: {epoch+1}/{num_epochs}, step: {i+1}/{n_iters}, inputs: {inputs.shape}')\n"
   ]
  },
  {
   "cell_type": "markdown",
   "metadata": {},
   "source": [
    "## Dataset Transforms\n",
    "This allows us to automatically transform a dataset when loading it from pytorch. This can be very helpful to convert images to tenors, etc <br>\n",
    "Check the documentation for the full list of transforms avaialable"
   ]
  },
  {
   "cell_type": "markdown",
   "metadata": {},
   "source": [
    "#### Adding to the Wine Dataset class\n",
    "The dataset transforms can be done by adding to a dataset class. This is the exact class from the dataset tutorial above, which I am adding to by adding additional transforms"
   ]
  },
  {
   "cell_type": "code",
   "execution_count": 148,
   "metadata": {},
   "outputs": [],
   "source": [
    "# wine dataset class with some additions\n",
    "class WineDataset(Dataset):\n",
    "    def __init__(self, transform=None):\n",
    "        xy = np.loadtxt('/Users/sakinkirti/Programming/Python/pytorch-tutorial/wine.txt', delimiter=',', dtype=np.float32, skiprows=1)\n",
    "        self.x = xy[:,1:]\n",
    "        self.y = xy[:,[0]]\n",
    "        self.num_samples = xy.shape[0]\n",
    "\n",
    "        self.transform = transform # addition\n",
    "\n",
    "    def __getitem__(self, index):\n",
    "        sample = self.x[index], self.y[index]\n",
    "\n",
    "        if self.transform: # addition\n",
    "            sample = self.transform(sample)\n",
    "\n",
    "        return sample\n",
    "\n",
    "    def __len__(self):\n",
    "        return self.num_samples"
   ]
  },
  {
   "cell_type": "code",
   "execution_count": 149,
   "metadata": {},
   "outputs": [],
   "source": [
    "# create a ToTensor class that will convert our dataset to tensors\n",
    "class ToTensor:\n",
    "    def __call__(self, sample):\n",
    "        inputs, labels = sample\n",
    "        return torch.from_numpy(inputs), torch.from_numpy(labels)"
   ]
  },
  {
   "cell_type": "code",
   "execution_count": 150,
   "metadata": {},
   "outputs": [],
   "source": [
    "# another transform\n",
    "class MulTransform:\n",
    "    def __init__(self, factor):\n",
    "        self.factor = factor\n",
    "\n",
    "    def __call__(self, sample):\n",
    "        inputs, labels = sample\n",
    "        inputs *= self.factor\n",
    "        return inputs, labels"
   ]
  },
  {
   "cell_type": "code",
   "execution_count": 153,
   "metadata": {},
   "outputs": [
    {
     "name": "stdout",
     "output_type": "stream",
     "text": [
      "<class 'numpy.ndarray'> <class 'numpy.ndarray'>\n",
      "[1.423e+01 1.710e+00 2.430e+00 1.560e+01 1.270e+02 2.800e+00 3.060e+00\n",
      " 2.800e-01 2.290e+00 5.640e+00 1.040e+00 3.920e+00 1.065e+03] [1.]\n"
     ]
    }
   ],
   "source": [
    "# call the dataset\n",
    "data = WineDataset(transform=None)\n",
    "\n",
    "# get an item - this applies does not apply a transform\n",
    "firstItem = data[0]\n",
    "features, labels = firstItem\n",
    "print(type(features), type(labels))\n",
    "print(features, labels)"
   ]
  },
  {
   "cell_type": "code",
   "execution_count": 154,
   "metadata": {},
   "outputs": [
    {
     "name": "stdout",
     "output_type": "stream",
     "text": [
      "<class 'torch.Tensor'> <class 'torch.Tensor'>\n",
      "[1.423e+01 1.710e+00 2.430e+00 1.560e+01 1.270e+02 2.800e+00 3.060e+00\n",
      " 2.800e-01 2.290e+00 5.640e+00 1.040e+00 3.920e+00 1.065e+03] tensor([1.])\n"
     ]
    }
   ],
   "source": [
    "# here, i use the compose transform to put multiple transforms together\n",
    "composed = torchvision.transforms.Compose([ToTensor(), MulTransform(2)])\n",
    "data = WineDataset(transform=composed)\n",
    "firstItem = data[0]\n",
    "inputs, labels = firstItem\n",
    "print(type(inputs), type(labels))\n",
    "print(features, labels)"
   ]
  },
  {
   "cell_type": "markdown",
   "metadata": {},
   "source": [
    "## Softmax and Cross Entropy\n",
    "A softmax function is regularly used in multi-class classification problems. These are fairly regularly used in ML models. Cross entropy is a type of loss function that is pretty regularly in many ML models. Here is how to use them with PyTorch\n",
    "<br><br>\n",
    "A softmax layer outputs values at each node between 0 and 1, such that the sum of all of the values adds to 1. From here, one can filter as needed (highest value, top 5 values, least 5 values, etc)."
   ]
  },
  {
   "cell_type": "markdown",
   "metadata": {},
   "source": [
    "### Softmax"
   ]
  },
  {
   "cell_type": "markdown",
   "metadata": {},
   "source": [
    "#### Math behind softmax\n",
    "e^y(i) / sum( e^y(j) ) <br>\n",
    "This squashes the output to be between 0 and 1. They are probabilities of a particular output. The highest probability is typically the y_pred"
   ]
  },
  {
   "cell_type": "markdown",
   "metadata": {},
   "source": [
    "#### Softmax function in code"
   ]
  },
  {
   "cell_type": "code",
   "execution_count": 155,
   "metadata": {},
   "outputs": [],
   "source": [
    "# a function to calculate the softmax\n",
    "def softmax(y):\n",
    "    return np.exp(y) / np.sum(np.exp(y), axis=0)"
   ]
  },
  {
   "cell_type": "code",
   "execution_count": 159,
   "metadata": {},
   "outputs": [
    {
     "name": "stdout",
     "output_type": "stream",
     "text": [
      "[5 4 3 2 1 0]\n",
      "[0.63369132 0.23312201 0.08576079 0.03154963 0.01160646 0.00426978]\n"
     ]
    }
   ],
   "source": [
    "# a quick example using this softmax function\n",
    "x = np.array([5,4,3,2,1,0])\n",
    "output = softmax(x)\n",
    "print(x)\n",
    "print(output)"
   ]
  },
  {
   "cell_type": "code",
   "execution_count": 162,
   "metadata": {},
   "outputs": [
    {
     "name": "stdout",
     "output_type": "stream",
     "text": [
      "tensor([5., 4., 3., 2., 1., 0.])\n",
      "tensor([0.6337, 0.2331, 0.0858, 0.0315, 0.0116, 0.0043])\n"
     ]
    }
   ],
   "source": [
    "# calculating with pytorch\n",
    "x = torch.tensor([5.0,4.0,3,2,1,0])\n",
    "outputs = torch.softmax(x, dim=0)\n",
    "print(x)\n",
    "print(outputs)"
   ]
  },
  {
   "cell_type": "markdown",
   "metadata": {},
   "source": [
    "### Cross-Entropy Loss\n",
    "The softmax layer is often used in conjunction with the Cross-Entropy Loss because it is used with layers that output a probability\n",
    "#### Math behind CEL\n",
    "(-1/N) * sum(y(i) * log(yhat(i)))"
   ]
  },
  {
   "cell_type": "markdown",
   "metadata": {},
   "source": [
    "#### CEL in code"
   ]
  },
  {
   "cell_type": "code",
   "execution_count": 165,
   "metadata": {},
   "outputs": [
    {
     "name": "stdout",
     "output_type": "stream",
     "text": [
      "good cross entropy loss: 0.13586865481479343\n",
      "bad cross entropy loss: 0.80253532148146\n"
     ]
    }
   ],
   "source": [
    "# create a cross-entropy loss function\n",
    "def cross_entropy(y, yhat):\n",
    "    return -(sum(y * np.log(yhat))) / float(yhat.shape[0])\n",
    "\n",
    "# create the arrays\n",
    "y = np.array([1,0,0])\n",
    "ygood = softmax(np.array([5,4,3]))\n",
    "ybad = softmax(np.array([3,5,4]))\n",
    "\n",
    "# calculate CEL\n",
    "outputg = cross_entropy(y, ygood)\n",
    "outputb = cross_entropy(y, ybad)\n",
    "print(f'good cross entropy loss: {output}')\n",
    "print(f'bad cross entropy loss: {outputb}')"
   ]
  },
  {
   "cell_type": "markdown",
   "metadata": {},
   "source": [
    "#### CEL with PyTorch"
   ]
  },
  {
   "cell_type": "code",
   "execution_count": 166,
   "metadata": {},
   "outputs": [
    {
     "name": "stdout",
     "output_type": "stream",
     "text": [
      "good loss: 0.4170299470424652\n",
      "bad loss: 2.342207193374634\n"
     ]
    }
   ],
   "source": [
    "# declare the loss func\n",
    "loss = torch.nn.CrossEntropyLoss()\n",
    "\n",
    "# create the labels\n",
    "y = torch.tensor([0])\n",
    "ygood = torch.tensor([[2.0, 1.0, 0.1]])\n",
    "ybad = torch.tensor([[0.1, 2.0, 1.1]])\n",
    "\n",
    "# call loss func\n",
    "goodL = loss(ygood, y)\n",
    "badL = loss(ybad, y)\n",
    "\n",
    "# print\n",
    "print(f'good loss: {goodL.item()}')\n",
    "print(f'bad loss: {badL.item()}')"
   ]
  },
  {
   "cell_type": "code",
   "execution_count": 167,
   "metadata": {},
   "outputs": [
    {
     "name": "stdout",
     "output_type": "stream",
     "text": [
      "good pred: 0, bad pred: 1\n"
     ]
    }
   ],
   "source": [
    "# to get the prediction from PyTorch, use this func\n",
    "_, predsg = torch.max(ygood, 1)\n",
    "_, predsb = torch.max(ybad, 1)\n",
    "\n",
    "# choose the value with the highest probability\n",
    "print(f'good pred: {predsg.item()}, bad pred: {predsb.item()}')"
   ]
  },
  {
   "cell_type": "markdown",
   "metadata": {},
   "source": [
    "## Activation Functions with Pytorch\n",
    "activtion functions allow data to travel through NN hidden layers. They apply a linear transformation to the function to decide whether the next neuron should be activated or not. These can use linear, ReLU, or some other functions. When needed, can search up what the math is. These are some different activation functions:\n",
    "- linear\n",
    "- sigmoid\n",
    "- tanh\n",
    "- ReLU\n",
    "- Leaky ReLU\n",
    "- softmax"
   ]
  },
  {
   "cell_type": "markdown",
   "metadata": {},
   "source": [
    "There are two ways we can implement activation functions in Pytorch. One, is with nn modules that pytorch supplies. It is shown below"
   ]
  },
  {
   "cell_type": "code",
   "execution_count": 169,
   "metadata": {},
   "outputs": [],
   "source": [
    "class NeuralNetStepwise:\n",
    "    def __init__(self, input_size, hidden_size):\n",
    "        super(NeuralNetStepwise, self).__init__()\n",
    "\n",
    "        # the first layer, followed by its activation\n",
    "        self.linear1 = nn.Linear(input_size, hidden_size)\n",
    "        self.relu = nn.ReLU()\n",
    "\n",
    "        # the second layer, followed by its activation\n",
    "        self.linear2 = nn.Linear(hidden_size, 1)\n",
    "        self.sigmoid = nn.Sigmoid()\n",
    "\n",
    "    def forward(self, x):\n",
    "        # pass the input throught the layers\n",
    "        out = self.linear1(x)\n",
    "        out = self.relu(out)\n",
    "        out = self.linear2(out)\n",
    "        out = self.sigmoid(out)\n",
    "        return out"
   ]
  },
  {
   "cell_type": "markdown",
   "metadata": {},
   "source": [
    "The second way is to use these functions directly - this can make code less cluttered"
   ]
  },
  {
   "cell_type": "code",
   "execution_count": 170,
   "metadata": {},
   "outputs": [],
   "source": [
    "class NeuralNetInPlace:\n",
    "    def __init__(self, input_size, hidden_size):\n",
    "        super(NeuralNetInPlace, self).__init__()\n",
    "\n",
    "        # the first layer\n",
    "        self.linear1 = nn.Linear(input_size, hidden_size)\n",
    "        # the second layer\n",
    "        self.linear2 = nn.Linear(hidden_size, 1)\n",
    "\n",
    "    def forward(x):\n",
    "        # we do the activation in place by applying the activation function directly\n",
    "        out = torch.nn.ReLU(self.linear1(x))\n",
    "        out = torch.nn.Sigmoid(self.linear2(out))"
   ]
  },
  {
   "cell_type": "markdown",
   "metadata": {},
   "source": [
    "## Feed Forward Net\n",
    "An example of a simple neural network. This will be a multilayer multiclass model using the MNIST dataset. This dataset has handwritten numbers in which we want to NN to classify these characters are each number."
   ]
  },
  {
   "cell_type": "markdown",
   "metadata": {},
   "source": [
    "#### Import the necessary packages"
   ]
  },
  {
   "cell_type": "code",
   "execution_count": 189,
   "metadata": {},
   "outputs": [],
   "source": [
    "import torch\n",
    "import torch.nn as nn\n",
    "import torchvision\n",
    "import torchvision.transforms as transforms\n",
    "import matplotlib.pyplot as plt"
   ]
  },
  {
   "cell_type": "markdown",
   "metadata": {},
   "source": [
    "#### define hyperparameters"
   ]
  },
  {
   "cell_type": "code",
   "execution_count": 262,
   "metadata": {},
   "outputs": [],
   "source": [
    "input_size = 784 # images are 28 x 28\n",
    "hidden_size = 100\n",
    "num_classes = 10\n",
    "num_epochs = 10\n",
    "batch_size = 100\n",
    "learning_rate = 0.0005"
   ]
  },
  {
   "cell_type": "markdown",
   "metadata": {},
   "source": [
    "#### Import the dataset"
   ]
  },
  {
   "cell_type": "code",
   "execution_count": 263,
   "metadata": {},
   "outputs": [
    {
     "name": "stdout",
     "output_type": "stream",
     "text": [
      "torch.Size([100, 1, 28, 28]) torch.Size([100])\n"
     ]
    },
    {
     "data": {
      "image/png": "[encoded data removed]",
      "text/plain": [
       "<Figure size 432x288 with 6 Axes>"
      ]
     },
     "metadata": {
      "needs_background": "light"
     },
     "output_type": "display_data"
    }
   ],
   "source": [
    "# get the datasets\n",
    "train_dataset = torchvision.datasets.MNIST(root='./data', train=True, transform=transforms.ToTensor(), download=True)\n",
    "test_dataset = torchvision.datasets.MNIST(root='./data', train=False, transform=transforms.ToTensor())\n",
    "\n",
    "# use a dataloader\n",
    "train_loader = torch.utils.data.DataLoader(dataset=train_dataset, batch_size=batch_size, shuffle=True)\n",
    "test_loader = torch.utils.data.DataLoader(dataset=test_dataset, batch_size=batch_size, shuffle=False)\n",
    "\n",
    "# look at one set\n",
    "examples = iter(train_loader)\n",
    "samples, labels = examples.next()\n",
    "print(samples.shape, labels.shape)\n",
    "\n",
    "# show some data\n",
    "for i in range(6):\n",
    "    plt.subplot(2, 3, i+1)\n",
    "    plt.imshow(samples[i][0], cmap='gray')\n",
    "plt.show()"
   ]
  },
  {
   "cell_type": "markdown",
   "metadata": {},
   "source": [
    "#### Define our NN"
   ]
  },
  {
   "cell_type": "code",
   "execution_count": 264,
   "metadata": {},
   "outputs": [],
   "source": [
    "class Network(nn.Module):\n",
    "    def __init__(self, input_size, hidden_size, num_classes):\n",
    "        super(Network, self).__init__()\n",
    "\n",
    "        # create the layers\n",
    "        self.l1 = nn.Linear(input_size, hidden_size)\n",
    "        self.relu = nn.ReLU()\n",
    "        self.l2 = nn.Linear(hidden_size, num_classes)\n",
    "        \n",
    "    def forward(self, x):\n",
    "        out = self.l1(x)\n",
    "        out = self.relu(out)\n",
    "        out = self.l2(out)\n",
    "        return out\n",
    "\n",
    "# instantiate the model\n",
    "model = Network(input_size=input_size, hidden_size=hidden_size, num_classes=num_classes)"
   ]
  },
  {
   "cell_type": "markdown",
   "metadata": {},
   "source": [
    "#### Define the loss and optimizer"
   ]
  },
  {
   "cell_type": "code",
   "execution_count": 265,
   "metadata": {},
   "outputs": [],
   "source": [
    "# loss\n",
    "loss = nn.CrossEntropyLoss()\n",
    "\n",
    "# optimizer\n",
    "optimizer = torch.optim.Adam(model.parameters(), lr=learning_rate)"
   ]
  },
  {
   "cell_type": "markdown",
   "metadata": {},
   "source": [
    "#### Training loop"
   ]
  },
  {
   "cell_type": "code",
   "execution_count": 266,
   "metadata": {},
   "outputs": [
    {
     "name": "stdout",
     "output_type": "stream",
     "text": [
      "epoch: 1/10, step: 100/600, loss: 0.61207\n",
      "epoch: 1/10, step: 200/600, loss: 0.33418\n",
      "epoch: 1/10, step: 300/600, loss: 0.32863\n",
      "epoch: 1/10, step: 400/600, loss: 0.21837\n",
      "epoch: 1/10, step: 500/600, loss: 0.33463\n",
      "epoch: 1/10, step: 600/600, loss: 0.30147\n",
      "epoch: 2/10, step: 100/600, loss: 0.16545\n",
      "epoch: 2/10, step: 200/600, loss: 0.18793\n",
      "epoch: 2/10, step: 300/600, loss: 0.22708\n",
      "epoch: 2/10, step: 400/600, loss: 0.22637\n",
      "epoch: 2/10, step: 500/600, loss: 0.26348\n",
      "epoch: 2/10, step: 600/600, loss: 0.19915\n",
      "epoch: 3/10, step: 100/600, loss: 0.17795\n",
      "epoch: 3/10, step: 200/600, loss: 0.22553\n",
      "epoch: 3/10, step: 300/600, loss: 0.17681\n",
      "epoch: 3/10, step: 400/600, loss: 0.24281\n",
      "epoch: 3/10, step: 500/600, loss: 0.18786\n",
      "epoch: 3/10, step: 600/600, loss: 0.13522\n",
      "epoch: 4/10, step: 100/600, loss: 0.23712\n",
      "epoch: 4/10, step: 200/600, loss: 0.13908\n",
      "epoch: 4/10, step: 300/600, loss: 0.17251\n",
      "epoch: 4/10, step: 400/600, loss: 0.16567\n",
      "epoch: 4/10, step: 500/600, loss: 0.15390\n",
      "epoch: 4/10, step: 600/600, loss: 0.15256\n",
      "epoch: 5/10, step: 100/600, loss: 0.14436\n",
      "epoch: 5/10, step: 200/600, loss: 0.11329\n",
      "epoch: 5/10, step: 300/600, loss: 0.14569\n",
      "epoch: 5/10, step: 400/600, loss: 0.12161\n",
      "epoch: 5/10, step: 500/600, loss: 0.12435\n",
      "epoch: 5/10, step: 600/600, loss: 0.11576\n",
      "epoch: 6/10, step: 100/600, loss: 0.15450\n",
      "epoch: 6/10, step: 200/600, loss: 0.09995\n",
      "epoch: 6/10, step: 300/600, loss: 0.08880\n",
      "epoch: 6/10, step: 400/600, loss: 0.10661\n",
      "epoch: 6/10, step: 500/600, loss: 0.12827\n",
      "epoch: 6/10, step: 600/600, loss: 0.11950\n",
      "epoch: 7/10, step: 100/600, loss: 0.12156\n",
      "epoch: 7/10, step: 200/600, loss: 0.12095\n",
      "epoch: 7/10, step: 300/600, loss: 0.23693\n",
      "epoch: 7/10, step: 400/600, loss: 0.12831\n",
      "epoch: 7/10, step: 500/600, loss: 0.14595\n",
      "epoch: 7/10, step: 600/600, loss: 0.09265\n",
      "epoch: 8/10, step: 100/600, loss: 0.15773\n",
      "epoch: 8/10, step: 200/600, loss: 0.06833\n",
      "epoch: 8/10, step: 300/600, loss: 0.14190\n",
      "epoch: 8/10, step: 400/600, loss: 0.08291\n",
      "epoch: 8/10, step: 500/600, loss: 0.04611\n",
      "epoch: 8/10, step: 600/600, loss: 0.12530\n",
      "epoch: 9/10, step: 100/600, loss: 0.08358\n",
      "epoch: 9/10, step: 200/600, loss: 0.08167\n",
      "epoch: 9/10, step: 300/600, loss: 0.08611\n",
      "epoch: 9/10, step: 400/600, loss: 0.06327\n",
      "epoch: 9/10, step: 500/600, loss: 0.10522\n",
      "epoch: 9/10, step: 600/600, loss: 0.14108\n",
      "epoch: 10/10, step: 100/600, loss: 0.02795\n",
      "epoch: 10/10, step: 200/600, loss: 0.07017\n",
      "epoch: 10/10, step: 300/600, loss: 0.05251\n",
      "epoch: 10/10, step: 400/600, loss: 0.06439\n",
      "epoch: 10/10, step: 500/600, loss: 0.08511\n",
      "epoch: 10/10, step: 600/600, loss: 0.03070\n"
     ]
    },
    {
     "data": {
      "image/png": "[encoded data removed]",
      "text/plain": [
       "<Figure size 432x288 with 1 Axes>"
      ]
     },
     "metadata": {
      "needs_background": "light"
     },
     "output_type": "display_data"
    }
   ],
   "source": [
    "n_total_steps = len(train_loader)\n",
    "timestep = []\n",
    "losses = []\n",
    "\n",
    "# loop over epochs\n",
    "for epoch in range(num_epochs):\n",
    "    # loop over minibatches\n",
    "    for i,(images,labels) in enumerate(train_loader):\n",
    "\n",
    "        # reshape the images to column vectors - currently they are 100,1,28,28 while input size is 100,784\n",
    "        images = images.reshape(-1, 28*28)\n",
    "\n",
    "        # forward prop\n",
    "        y_pred = model(images)\n",
    "        l = loss(y_pred, labels)\n",
    "\n",
    "        # back prop\n",
    "        optimizer.zero_grad()\n",
    "        l.backward()\n",
    "        optimizer.step()\n",
    "\n",
    "        # print some data\n",
    "        if (i+1) % 100 == 0:\n",
    "            print(f'epoch: {epoch+1}/{num_epochs}, step: {i+1}/{n_total_steps}, loss: {l.item():.5f}')\n",
    "            timestep.append( (i+1)+(epoch*n_total_steps) )\n",
    "            losses.append(l.item())\n",
    "\n",
    "plt.plot(timestep, losses)\n",
    "plt.show()"
   ]
  },
  {
   "cell_type": "markdown",
   "metadata": {},
   "source": [
    "#### Testing and evaluation"
   ]
  },
  {
   "cell_type": "code",
   "execution_count": 267,
   "metadata": {},
   "outputs": [
    {
     "name": "stdout",
     "output_type": "stream",
     "text": [
      "Accuracy: 0.9729\n"
     ]
    }
   ],
   "source": [
    "# get the accuracy of the model\n",
    "with torch.no_grad():\n",
    "    n_correct = 0\n",
    "    n_samples = 0\n",
    "    for images, labels in test_loader:\n",
    "        images = images.reshape(-1, 28*28)\n",
    "        outputs = model(images)\n",
    "\n",
    "        # max returns (value ,index)\n",
    "        _, predicted = torch.max(outputs.data, 1)\n",
    "        n_samples += labels.size(0)\n",
    "        n_correct += (predicted == labels).sum().item()\n",
    "\n",
    "    acc = n_correct / n_samples\n",
    "    print(f'Accuracy: {acc}')"
   ]
  },
  {
   "cell_type": "markdown",
   "metadata": {},
   "source": [
    "## Convolutional Neural Net\n",
    "A conv net is a highly powerful net that is mainly used for image analysis. Many people use this technique to quickly apply convolutions to 2D or 3D arrays very quickly<br>\n",
    "<br>\n",
    "This works by applying smaller filters to the image to extract parameters that our model can then learn. This is followed by some fully connected layers that perform the classification task."
   ]
  },
  {
   "cell_type": "markdown",
   "metadata": {},
   "source": [
    "#### import packages"
   ]
  },
  {
   "cell_type": "code",
   "execution_count": 268,
   "metadata": {},
   "outputs": [],
   "source": [
    "import torch\n",
    "import torch.nn as nn\n",
    "import torch.nn.functional as F\n",
    "import torchvision\n",
    "import torchvision.transforms as transforms\n",
    "import matplotlib.pyplot as plt\n",
    "import numpy as np"
   ]
  },
  {
   "cell_type": "markdown",
   "metadata": {},
   "source": [
    "#### hyperparameters"
   ]
  },
  {
   "cell_type": "code",
   "execution_count": 324,
   "metadata": {},
   "outputs": [],
   "source": [
    "num_epochs = 20\n",
    "batch_size = 4\n",
    "learning_rate = 0.001"
   ]
  },
  {
   "cell_type": "markdown",
   "metadata": {},
   "source": [
    "#### get the data"
   ]
  },
  {
   "cell_type": "code",
   "execution_count": 325,
   "metadata": {},
   "outputs": [
    {
     "name": "stdout",
     "output_type": "stream",
     "text": [
      "Files already downloaded and verified\n",
      "Files already downloaded and verified\n"
     ]
    }
   ],
   "source": [
    "# compose some transformations to the data\n",
    "transform = transforms.Compose(\n",
    "    [transforms.ToTensor(),\n",
    "     transforms.Normalize((0.5, 0.5, 0.5), (0.5, 0.5, 0.5))])\n",
    "\n",
    "# load the dataset using the DataLoader and Dataset classes\n",
    "# CIFAR10: 60000 32x32 color images in 10 classes, with 6000 images per class\n",
    "train_dataset = torchvision.datasets.CIFAR10(root='./data', train=True, download=True, transform=transform)\n",
    "test_dataset = torchvision.datasets.CIFAR10(root='./data', train=False, download=True, transform=transform)\n",
    "train_loader = torch.utils.data.DataLoader(train_dataset, batch_size=batch_size, shuffle=True)\n",
    "test_loader = torch.utils.data.DataLoader(test_dataset, batch_size=batch_size, shuffle=False)\n",
    "\n",
    "# assign the classes\n",
    "classes = ('plane', 'car', 'bird', 'cat', 'deer', 'dog', 'frog', 'horse', 'ship', 'truck')"
   ]
  },
  {
   "cell_type": "markdown",
   "metadata": {},
   "source": [
    "#### define the ConvNet"
   ]
  },
  {
   "cell_type": "code",
   "execution_count": 326,
   "metadata": {},
   "outputs": [],
   "source": [
    "class ConvNet(nn.Module):\n",
    "    def __init__(self):\n",
    "        # super init\n",
    "        super(ConvNet, self).__init__()\n",
    "\n",
    "        # convolutional layers - take params (num_input_channels, num_output_channels, kernel_size)\n",
    "        self.c1 = nn.Conv2d(3, 6, 5)\n",
    "        self.pool = nn.MaxPool2d(2, 2) # kernel_size, stride\n",
    "        self.c2 = nn.Conv2d(6, 16, 5)\n",
    "\n",
    "        # fully connected layers\n",
    "        self.fc1 = nn.Linear(16*5*5, 120)\n",
    "        self.fc2 = nn.Linear(120, 84)\n",
    "        self.fc3 = nn.Linear(84, 10) # 10 classes so this is output size\n",
    "\n",
    "    def forward(self, x):\n",
    "        # apply the layers - apply the relu activation and the pooling layers in place\n",
    "        out = self.pool(F.relu(self.c1(x)))\n",
    "        out = self.pool(F.relu(self.c2(out)))\n",
    "\n",
    "        # fully connected layers\n",
    "        out = out.view(-1, 16*5*5) # flatten\n",
    "        out = F.relu(self.fc1(out))\n",
    "        out = F.relu(self.fc2(out))\n",
    "        out = self.fc3(out) # no activation or softmax because Cross Entropy Loss calculates for us\n",
    "\n",
    "        return out\n",
    "\n",
    "# instantiate the model\n",
    "model = ConvNet()"
   ]
  },
  {
   "cell_type": "markdown",
   "metadata": {},
   "source": [
    "#### loss and optimizer"
   ]
  },
  {
   "cell_type": "code",
   "execution_count": 327,
   "metadata": {},
   "outputs": [],
   "source": [
    "# define the loss\n",
    "criterion = torch.nn.CrossEntropyLoss()\n",
    "\n",
    "# define the optimizer\n",
    "optimizer = torch.optim.SGD(model.parameters(), lr=learning_rate)"
   ]
  },
  {
   "cell_type": "markdown",
   "metadata": {},
   "source": [
    "#### training loop"
   ]
  },
  {
   "cell_type": "code",
   "execution_count": 328,
   "metadata": {},
   "outputs": [
    {
     "name": "stdout",
     "output_type": "stream",
     "text": [
      "epoch: 1/20, loss: 1.8144\n",
      "epoch: 2/20, loss: 1.5842\n",
      "epoch: 3/20, loss: 1.9792\n",
      "epoch: 4/20, loss: 2.4220\n",
      "epoch: 5/20, loss: 1.9478\n",
      "epoch: 6/20, loss: 1.4521\n",
      "epoch: 7/20, loss: 2.0371\n",
      "epoch: 8/20, loss: 1.6453\n",
      "epoch: 9/20, loss: 1.3584\n",
      "epoch: 10/20, loss: 0.6384\n",
      "epoch: 11/20, loss: 0.8109\n",
      "epoch: 12/20, loss: 1.2819\n",
      "epoch: 13/20, loss: 0.9746\n",
      "epoch: 14/20, loss: 1.0926\n",
      "epoch: 15/20, loss: 0.8839\n",
      "epoch: 16/20, loss: 1.0326\n",
      "epoch: 17/20, loss: 1.0619\n",
      "epoch: 18/20, loss: 0.8780\n",
      "epoch: 19/20, loss: 0.7228\n",
      "epoch: 20/20, loss: 0.0761\n"
     ]
    },
    {
     "data": {
      "image/png": "[encoded data removed]",
      "text/plain": [
       "<Figure size 432x288 with 1 Axes>"
      ]
     },
     "metadata": {
      "needs_background": "light"
     },
     "output_type": "display_data"
    }
   ],
   "source": [
    "# set some prelim vars for use in the loop\n",
    "n_total_steps = len(train_loader)\n",
    "timestep = []\n",
    "losses = []\n",
    "\n",
    "# loop through the epochs\n",
    "for epoch in range(num_epochs):\n",
    "    # loop through the training set\n",
    "    for i,(images,labels) in enumerate(train_loader):\n",
    "        \n",
    "        # forward pass and loss\n",
    "        outputs = model(images)\n",
    "        loss = criterion(outputs, labels)\n",
    "\n",
    "        # backward pass\n",
    "        optimizer.zero_grad()\n",
    "        loss.backward()\n",
    "\n",
    "        # gradient clipping\n",
    "        nn.utils.clip_grad_value_(model.parameters(), clip_value=2.0)\n",
    "\n",
    "        # optimization\n",
    "        optimizer.step()\n",
    "\n",
    "        # print some data\n",
    "        if (i+1) == n_total_steps:\n",
    "            print(f'epoch: {epoch+1}/{num_epochs}, loss: {loss.item():.4f}')\n",
    "\n",
    "        # gather some data to plot\n",
    "        if (i+1) % 1000 == 0:\n",
    "            timestep.append( (i+1)+(epoch*n_total_steps) )\n",
    "            losses.append(loss.item())\n",
    "\n",
    "# plot the data\n",
    "plt.plot(timestep, losses)\n",
    "plt.show()"
   ]
  },
  {
   "cell_type": "markdown",
   "metadata": {},
   "source": [
    "#### model accuracy"
   ]
  },
  {
   "cell_type": "code",
   "execution_count": 329,
   "metadata": {},
   "outputs": [
    {
     "name": "stdout",
     "output_type": "stream",
     "text": [
      "accuracy of network: 62.41 %\n",
      "Accuracy of plane: 79.8 %\n",
      "Accuracy of car: 77.2 %\n",
      "Accuracy of bird: 43.2 %\n",
      "Accuracy of cat: 35.4 %\n",
      "Accuracy of deer: 51.2 %\n",
      "Accuracy of dog: 62.3 %\n",
      "Accuracy of frog: 68.6 %\n",
      "Accuracy of horse: 70.8 %\n",
      "Accuracy of ship: 71.7 %\n",
      "Accuracy of truck: 63.9 %\n"
     ]
    }
   ],
   "source": [
    "# use a no grad statement so the gradients aren't stored\n",
    "with torch.no_grad():\n",
    "\n",
    "    # define some vars to calc accuracy\n",
    "    n_correct = 0\n",
    "    n_samples = 0\n",
    "    n_class_correct = [0 for i in range(10)]\n",
    "    n_class_samples = [0 for i in range(10)]\n",
    "\n",
    "    # loop through test data\n",
    "    for images, labels in test_loader:\n",
    "        \n",
    "        # forward pass\n",
    "        outputs = model(images)\n",
    "\n",
    "        # max returns (value ,index) - get the number of correct predictions\n",
    "        _, predicted = torch.max(outputs, 1)\n",
    "        n_samples += labels.size(0)\n",
    "        n_correct += (predicted == labels).sum().item()\n",
    "        \n",
    "        # loop through batches\n",
    "        for i in range(batch_size):\n",
    "            label = labels[i]\n",
    "            pred = predicted[i]\n",
    "            if (label == pred):\n",
    "                n_class_correct[label] += 1\n",
    "            n_class_samples[label] += 1\n",
    "\n",
    "    # calculate and print accuracy\n",
    "    acc = 100.0 * n_correct / n_samples\n",
    "    print(f'accuracy of network: {acc} %')\n",
    "\n",
    "    # calculatae and print accuracy for each class\n",
    "    for i in range(10):\n",
    "        acc = 100.0 * n_class_correct[i] / n_class_samples[i]\n",
    "        print(f'Accuracy of {classes[i]}: {acc} %')"
   ]
  },
  {
   "cell_type": "code",
   "execution_count": null,
   "metadata": {},
   "outputs": [],
   "source": []
  }
 ],
 "metadata": {
  "interpreter": {
   "hash": "018424330fd2776b878de25387691c469f53901b81fab446e5c14eecfc2492a5"
  },
  "kernelspec": {
   "display_name": "Python 3.8.8 ('base')",
   "language": "python",
   "name": "python3"
  },
  "language_info": {
   "codemirror_mode": {
    "name": "ipython",
    "version": 3
   },
   "file_extension": ".py",
   "mimetype": "text/x-python",
   "name": "python",
   "nbconvert_exporter": "python",
   "pygments_lexer": "ipython3",
   "version": "3.8.8"
  },
  "orig_nbformat": 4
 },
 "nbformat": 4,
 "nbformat_minor": 2
}
